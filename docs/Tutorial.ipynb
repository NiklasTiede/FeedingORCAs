{
 "cells": [
  {
   "cell_type": "markdown",
   "metadata": {},
   "source": [
    "## Tutorial\n",
    "The goal of this tutorial is to show how to use the molecule data handler."
   ]
  },
  {
   "cell_type": "code",
   "execution_count": 5,
   "metadata": {},
   "outputs": [],
   "source": [
    "from src.molecule_classes_and_functions import Molecule\n",
    "from src.molecule_import import load_molecule_list_from_pickle\n",
    "import os"
   ]
  },
  {
   "cell_type": "code",
   "execution_count": 2,
   "metadata": {},
   "outputs": [],
   "source": [
    "path = 'stored_molecule_list_B'\n",
    "os.chdir('/home/niklas/PycharmProjects/2-molecule_data_handler/src')\n",
    "os.getcwd()\n",
    "molecule_list_150 = load_molecule_list_from_pickle(path)"
   ]
  },
  {
   "cell_type": "code",
   "execution_count": 6,
   "metadata": {},
   "outputs": [],
   "source": [
    "import matplotlib.pyplot as plt\n",
    "from matplotlib.text import Annotation\n",
    "from mpl_toolkits.mplot3d.proj3d import proj_transform\n",
    "import numpy as np\n",
    "import os\n",
    "import pickle\n",
    "from pprint import pprint"
   ]
  },
  {
   "cell_type": "code",
   "execution_count": 7,
   "metadata": {},
   "outputs": [],
   "source": [
    "class Annotation3D(Annotation):\n",
    "    \"\"\" Annotate the point xyz with text s \"\"\"\n",
    "\n",
    "    def __init__(self, s, xyz, *args, **kwargs):\n",
    "        Annotation.__init__(self, s, xy=(0, 0), *args, **kwargs)\n",
    "        self._verts3d = xyz\n",
    "\n",
    "    def draw(self, renderer):\n",
    "        xs3d, ys3d, zs3d = self._verts3d\n",
    "        xs, ys, zs = proj_transform(xs3d, ys3d, zs3d, renderer.M)\n",
    "        self.xy = (xs, ys)\n",
    "        Annotation.draw(self, renderer)\n",
    "\n",
    "\n",
    "def annotate3D(ax, s, *args, **kwargs):\n",
    "    \"\"\" add annotation text s to to Axes3d ax \"\"\"\n",
    "\n",
    "    tag = Annotation3D(s, *args, **kwargs)\n",
    "    ax.add_artist(tag)"
   ]
  },
  {
   "cell_type": "code",
   "execution_count": 12,
   "metadata": {},
   "outputs": [
    {
     "data": {
      "application/vnd.jupyter.widget-view+json": {
       "model_id": "3d4d5e7262a143d0a874dfe28c0ec73f",
       "version_major": 2,
       "version_minor": 0
      },
      "text/plain": [
       "Canvas(toolbar=Toolbar(toolitems=[('Home', 'Reset original view', 'home', 'home'), ('Back', 'Back to previous …"
      ]
     },
     "metadata": {},
     "output_type": "display_data"
    }
   ],
   "source": [
    "# first_molecule = molecule_list_150[4]\n",
    "first_molecule = Molecule.from_smiles('CCCC')\n",
    "df1 = first_molecule.bond_distances_as_dataframe()\n",
    "only_atoms = df1['atoms']\n",
    "first_molecule.visualize_as_3d_plot()"
   ]
  },
  {
   "cell_type": "code",
   "execution_count": 14,
   "metadata": {},
   "outputs": [
    {
     "data": {
      "application/vnd.jupyter.widget-view+json": {
       "model_id": "71ad2f976aa047ac87c1a11bc3b5157f",
       "version_major": 2,
       "version_minor": 0
      },
      "text/plain": [
       "Canvas(toolbar=Toolbar(toolitems=[('Home', 'Reset original view', 'home', 'home'), ('Back', 'Back to previous …"
      ]
     },
     "metadata": {},
     "output_type": "display_data"
    }
   ],
   "source": [
    "%matplotlib widget\n",
    "atom_list = first_molecule.contained_atoms\n",
    "\n",
    "fig = plt.figure(figsize=plt.figaspect(1)*1.3, dpi=80)\n",
    "ax = fig.gca(projection='3d')\n",
    "ax.set_axis_off()\n",
    "\n",
    "for atom1, atom2 in only_atoms:\n",
    "    ax.plot3D([atom1.x, atom2.x], [atom1.y, atom2.y], [atom1.z, atom2.z], '#525252', alpha=0.7)\n",
    "\n",
    "element_colors = {'H': '#d9d9d9', 'B': '#ffbf80', 'C': '#000000', 'N': '#0000ff', 'O': '#ff3300', 'F': '#00e600',\n",
    "                  'Si': '#4d4d4d', 'P': '#ff9900', 'S': '#e6e600', 'Cl': '#00e600', 'Br': '#990000', 'I': '#6600cc'}\n",
    "for atom in atom_list:\n",
    "    color = element_colors[atom.element]\n",
    "    ax.scatter(atom.x, atom.y, atom.z, s=150, label='True Position', color=color, alpha=0.7, depthshade=False)\n",
    "\n",
    "for atom in atom_list:\n",
    "    coords = (atom.x, atom.y, atom.z)\n",
    "    annotate3D(ax, s=str(atom.element), xyz=coords, fontsize=10, xytext=(-3, 3),\n",
    "               textcoords='offset points', ha='right', va='bottom')\n",
    "\n",
    "scaling = np.array([getattr(ax, 'get_{}lim'.format(dim))() for dim in 'xyz'])\n",
    "# factor = 0.9\n",
    "factor = 0.5\n",
    "ax.auto_scale_xyz(*[[factor*np.min(scaling), factor*np.max(scaling)]]*3)\n",
    "\n",
    "import matplotlib.animation as animation\n",
    "def rotate(angle):\n",
    "    ax.view_init(azim=angle)\n",
    "rot_animation = animation.FuncAnimation(fig, rotate, frames=np.arange(0, 362, 2), interval=100)\n",
    "# rot_animation.save('rotation.gif', writer='imagemagick', fps=10)\n",
    "\n",
    "plt.tight_layout()\n",
    "plt.show()"
   ]
  },
  {
   "cell_type": "code",
   "execution_count": 3,
   "metadata": {},
   "outputs": [
    {
     "data": {
      "image/png": "[encoded data removed]",
      "text/plain": [
       "<rdkit.Chem.rdchem.Mol at 0x7fe8d4485c10>"
      ]
     },
     "execution_count": 3,
     "metadata": {},
     "output_type": "execute_result"
    }
   ],
   "source": [
    "from rdkit import Chem\n",
    "mol_smi = 'Cc1c(NC(=O)CSc2nc3sc4c(c3c(=O)[nH]2)CCCC4)c(=O)n(-c2ccccc2)n1C'\n",
    "m1 = Chem.MolFromSmiles(mol_smi)\n",
    "m1"
   ]
  },
  {
   "cell_type": "code",
   "execution_count": 4,
   "metadata": {},
   "outputs": [
    {
     "data": {
      "text/plain": [
       "33"
      ]
     },
     "execution_count": 4,
     "metadata": {},
     "output_type": "execute_result"
    }
   ],
   "source": [
    "m1.GetNumAtoms()"
   ]
  },
  {
   "cell_type": "code",
   "execution_count": 8,
   "metadata": {},
   "outputs": [
    {
     "data": {
      "text/plain": [
       "56"
      ]
     },
     "execution_count": 8,
     "metadata": {},
     "output_type": "execute_result"
    }
   ],
   "source": [
    "m1 = Chem.AddHs(m1)\n",
    "m1.GetNumAtoms()"
   ]
  },
  {
   "cell_type": "code",
   "execution_count": 10,
   "metadata": {},
   "outputs": [
    {
     "data": {
      "text/plain": [
       "33"
      ]
     },
     "execution_count": 10,
     "metadata": {},
     "output_type": "execute_result"
    }
   ],
   "source": [
    "# heavy_atoms == non-hydrogen atoms:\n",
    "m1.GetNumHeavyAtoms()"
   ]
  },
  {
   "cell_type": "code",
   "execution_count": 40,
   "metadata": {},
   "outputs": [
    {
     "data": {
      "text/plain": [
       "3"
      ]
     },
     "execution_count": 40,
     "metadata": {},
     "output_type": "execute_result"
    }
   ],
   "source": [
    "# suppl = Chem.SmilesMolSupplier('150_smiles-strings_example.smi')\n",
    "suppl = Chem.SDMolSupplier('3_molecules.sdf')\n",
    "counter = 0\n",
    "for mol in suppl:\n",
    "    if mol is None:   # its a good practice to test each molecule to see it was correctly read !\n",
    "        continue\n",
    "    counter += 1\n",
    "\n",
    "counter"
   ]
  },
  {
   "cell_type": "code",
   "execution_count": 7,
   "metadata": {},
   "outputs": [
    {
     "data": {
      "image/png": "[encoded data removed]",
      "text/plain": [
       "<rdkit.Chem.rdchem.Mol at 0x7f559c7988a0>"
      ]
     },
     "execution_count": 7,
     "metadata": {},
     "output_type": "execute_result"
    }
   ],
   "source": [
    "# Finerenone (clinical phase III drug of Bayer)\n",
    "from rdkit import Chem\n",
    "drug_smiles = 'CCOc1ncc(C)c2c1[C@H](c1ccc(C#N)cc1OC)C(C(=N)O)=C(C)N2'\n",
    "drug_mol = Chem.MolFromSmiles(drug_smiles)\n",
    "drug_mol"
   ]
  },
  {
   "cell_type": "code",
   "execution_count": 6,
   "metadata": {},
   "outputs": [
    {
     "data": {
      "text/plain": [
       "'CCOc1ncc(C)c2c1[C@H](c1ccc(C#N)cc1OC)C(C(=N)O)=C(C)N2'"
      ]
     },
     "execution_count": 6,
     "metadata": {},
     "output_type": "execute_result"
    }
   ],
   "source": [
    "drug_smiles_inchi = 'InChI=1S/C21H22N4O3/c1-5-28-21-18-17(14-7-6-13(9-22)8-15(14)27-4)16(20(23)26)12(3)25-19(18)11(2)10-24-21/h6-8,10,17,25H,5H2,1-4H3,(H2,23,26)/t17-/m1/s1'\n",
    "drug_mol2 = Chem.MolFromInchi(drug_smiles_inchi)\n",
    "molo = Chem.MolToSmiles(drug_mol2)\n",
    "molo"
   ]
  },
  {
   "cell_type": "code",
   "execution_count": 8,
   "metadata": {},
   "outputs": [
    {
     "data": {
      "image/png": "[encoded data removed]",
      "text/plain": [
       "<rdkit.Chem.rdchem.Mol at 0x7f559c798e40>"
      ]
     },
     "execution_count": 8,
     "metadata": {},
     "output_type": "execute_result"
    }
   ],
   "source": [
    "# creating a molecules Murcko_scaffold:\n",
    "drugs_murcko = 'C1=C[C@@H](c2ccccc2)c2cnccc2N1'\n",
    "drug_murck = Chem.MolFromSmiles(drugs_murcko)\n",
    "drug_murck"
   ]
  },
  {
   "cell_type": "code",
   "execution_count": null,
   "metadata": {},
   "outputs": [],
   "source": []
  },
  {
   "cell_type": "code",
   "execution_count": null,
   "metadata": {},
   "outputs": [],
   "source": []
  },
  {
   "cell_type": "code",
   "execution_count": null,
   "metadata": {},
   "outputs": [],
   "source": []
  }
 ],
 "metadata": {
  "kernelspec": {
   "display_name": "Python 3",
   "language": "python",
   "name": "python3"
  },
  "language_info": {
   "codemirror_mode": {
    "name": "ipython",
    "version": 3
   },
   "file_extension": ".py",
   "mimetype": "text/x-python",
   "name": "python",
   "nbconvert_exporter": "python",
   "pygments_lexer": "ipython3",
   "version": "3.6.10"
  }
 },
 "nbformat": 4,
 "nbformat_minor": 4
}
